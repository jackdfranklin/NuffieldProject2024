{
 "cells": [
  {
   "cell_type": "markdown",
   "id": "9d296c8d-7ac0-4338-af2a-37f599b306ed",
   "metadata": {},
   "source": [
    "## Neutrino Detection"
   ]
  },
  {
   "cell_type": "markdown",
   "id": "e82a7ecc-7962-49f5-b87b-304de170d0b5",
   "metadata": {},
   "source": [
    "During this project, you will be investigating how we are able to detect a specific family of particles, neutrinos, which are produced by supernovae. This notebook will go through the important concepts and information to get you up to speed."
   ]
  },
  {
   "cell_type": "markdown",
   "id": "102e2103-586a-498c-b7f8-e643953d3ff0",
   "metadata": {},
   "source": [
    "### Cross Sections"
   ]
  },
  {
   "cell_type": "markdown",
   "id": "c399e418-e6df-42dc-a688-234cf0f8b834",
   "metadata": {},
   "source": [
    "In particle physics, a **cross-section** tells us how likely it is that two particles interact. The name is a hangover from classical physics, where we use the cross-sectional area of an object.\n",
    "\n",
    "For example, imagine you are holding up an umbrella in the rain. The umbrella with cover some area $A$ of the sky above your head. If there are $\\Phi$ raindrops per unit area per second falling from the sky, the **rate** at which the raindrops will hit the umbrella is given by:\n",
    "$$ R = A \\Phi$$"
   ]
  },
  {
   "cell_type": "code",
   "execution_count": 2,
   "id": "c11d3732-5330-4a66-9f46-893d4e7ca85d",
   "metadata": {},
   "outputs": [
    {
     "name": "stdout",
     "output_type": "stream",
     "text": [
      "R = 100 raindrops per second\n"
     ]
    }
   ],
   "source": [
    "A = 1 #m^2\n",
    "Phi = 100 #m^-2 s^-1\n",
    "print(\"R = \" + str(A*Phi) + \" raindrops per second\")"
   ]
  },
  {
   "cell_type": "markdown",
   "id": "21bd875d-e8f3-47e6-b390-72e7c6f00605",
   "metadata": {},
   "source": [
    "The number $\\Phi$ is often referred to as the **flux** of a particle."
   ]
  },
  {
   "cell_type": "markdown",
   "id": "1cf3ac7b-bf12-4b62-9bab-0deb350576aa",
   "metadata": {},
   "source": [
    "### Cross Sections Of Particles"
   ]
  },
  {
   "cell_type": "markdown",
   "id": "cb3e5f8d-ed04-4205-89b4-5c99d588de9b",
   "metadata": {},
   "source": [
    "There is a slight issue, however. In particle physics, all fundamental particles (such as electrons and neutrinos) are believed to be point-like, i.e. they have no area! But we know that particles interact with each other, otherwise the universe would be quite boring.\n",
    "\n",
    "#### Interactions\n",
    "\n",
    "The interactions between particles happen via a mediating particle, which is exchanged between the two particles undergoing the interaction. For example, the electromagnetic force is mediated by the photon. Neutrinos only interact via what is called the **weak force**. This force is mediated by two types of particle, called the **W** and **Z** bosons. For the moment, we don't need to worry about how or why this is the case but it is useful to know that these particles are extremely heavy. The large masses dampens the strength of the interactions, hence why the weak force has it's name.\n",
    "\n"
   ]
  },
  {
   "cell_type": "markdown",
   "id": "6a38a4d1-d1fc-4d5a-8d2b-d7c8d62ffbf1",
   "metadata": {},
   "source": [
    "#### Aside: Natural Units\n",
    "\n",
    "The units of measurement that most people are familiar with are known as the SI system of units, which includes metres, seconds, kilograms etc. However, in particle physics we usually adopt a system known as the natural units; by setting the physical constants $c$ (the speed of light in vacuum) and $\\hbar$ (the reduced Planck's constant) to 1, we can write almost every variable as having units in [**electron-volts**](https://en.wikipedia.org/wiki/Electronvolt) (eV), to some power. The electron-volt is a measure of energy: $1 \\,\\mathrm{eV} = 1.602176634\\times 10^{−19} \\,\\mathrm{J}$.\n",
    "\n",
    "For example, the mass of the electron in these units is 511 keV (or 511 thousand eV).\n",
    "\n",
    "**Exercise**: conversions between units\n",
    "\n",
    "Below are the SI units for the physical constants\n",
    "\n",
    "- $c$ : m $s^{-1}$\n",
    "- $\\hbar$ : kg m$^2$ s$^{-1}$\n",
    "\n",
    "Using these and the converison between eV and Joules, try to derive the conversion between natural and SI units for the following properties:\n",
    "\n",
    "- mass\n",
    "- length\n",
    "- time\n",
    "- momentum\n"
   ]
  },
  {
   "cell_type": "markdown",
   "id": "9dfd7560-f57d-4d3d-95e6-bea7da7649f1",
   "metadata": {},
   "source": [
    "### Neutrino-Electron Cross Section\n",
    "\n",
    "Let's look at the interactions between neutrinos and electrons. Neutrinos are the cousins of electrons (and their bigger siblings the muon and tau), and also come in three **flavours** - the creatively named electron-, muon-, and tau-neutrinos. We will focus on electron-neutrinos for now.\n",
    "\n",
    "The cross-section for the interaction of these two particles is given by:\n",
    "\n",
    "$$\\sigma = \\frac{2 G_F^2 E m_e}{\\pi}$$\n",
    "\n",
    "Where $G_F$ is Fermi's constant, which determines the strength of the interaction, $m_e$ is the electron mass, and $E$ is the energy of the incoming neutrino. \n",
    "\n",
    "**Exercise**: \n",
    "\n",
    "- Try plotting this equation for different possible values of the energy!\n",
    "- What are the units of this equation? Try to convert it to SI units\n",
    "- What would the interaction rate be? Take a flux of 100 neutrinos cm$^{-2}$s$^{-1}$ which have an energy of 100 MeV\n",
    "- How many neutrinos would we see interact in a year?"
   ]
  },
  {
   "cell_type": "code",
   "execution_count": 3,
   "id": "ed4c6a36-5f52-4953-8410-5f486a1c9ef5",
   "metadata": {},
   "outputs": [],
   "source": [
    "import numpy as np\n",
    "import matplotlib.pyplot as plt\n",
    "\n",
    "G_F = 1.16637 * 10**-5 # GeV^-2 = 10^-6 MeV^-2"
   ]
  },
  {
   "cell_type": "markdown",
   "id": "5e447e62-986e-40e6-9588-a742b2ec5f90",
   "metadata": {},
   "source": [
    "The number of neutrino events is quite small, but remember - this is just for one electron! We can increase the number of events by increasing the number of electrons in our detector.\n",
    "\n",
    "For example, take the [SuperKamiokande](https://en.wikipedia.org/wiki/Super-Kamiokande) experiment. Their detector consists of about **50 thousand tonnes** of ultra-pure water. How many electrons do they have in their detector? How many neutrinos would they see per year?\n",
    "\n",
    "If you're interested, you could repeat this for a number of other experiments. For example, the future [DUNE](https://en.wikipedia.org/wiki/Deep_Underground_Neutrino_Experiment) experiment, which will use liquid Argon as it's detection medium."
   ]
  },
  {
   "cell_type": "code",
   "execution_count": null,
   "id": "68368df8-3e3c-467b-89bc-4ec5eae0302b",
   "metadata": {},
   "outputs": [],
   "source": []
  },
  {
   "cell_type": "markdown",
   "id": "5f2ffe9a-0fae-43c3-8dfa-41d94e8ba545",
   "metadata": {},
   "source": [
    "### Differential Fluxes\n",
    "\n",
    "Most neutrino fluxes do not have one specific energy. This is because the processes in which they are produced are relatively complicated and messy, especially when looking at supernova neutrinos. During this project, we will be using neutrino fluxes that have been produced by simulations of [core collapse supernova](https://en.wikipedia.org/wiki/Type_II_supernova). We will then use these results to find the differential flux of neutrinos $d\\Phi / dE_\\nu$.\n",
    "\n",
    "Let's assume that the differential flux is given by a power law:\n",
    "$$\\frac{d\\Phi}{dE_\\nu} = \\Phi_0 \\left(\\frac{E_\\nu}{E_0}\\right)^{-\\gamma}$$\n",
    "\n",
    "- $\\Phi_0$ is the flux at the reference energy $E_0$\n",
    "- $\\gamma$ is the **spectral index**, which controls how the flux depends on energy\n",
    "\n",
    "Try plotting the differential flux for different values of these parameters and see how they compare. For real fluxes, $\\gamma$ is strictly > 1 (try integrating it to found out why)."
   ]
  },
  {
   "cell_type": "code",
   "execution_count": null,
   "id": "734d8f61-9b2b-4b28-869f-5d9bd918688d",
   "metadata": {},
   "outputs": [],
   "source": []
  },
  {
   "cell_type": "markdown",
   "id": "59a37c2d-e278-4d1c-a22a-6eeb9624990d",
   "metadata": {},
   "source": [
    "Given that both the cross section and the flux depend on energy, to find the event rate we need to integrate over all the possible energies:\n",
    "$$ R = \\int_{E_\\mathrm{min}}^{E_\\mathrm{max}} dE_\\nu N_e \\frac{d\\Phi}{dE_\\nu} \\sigma(E_\\nu)$$\n",
    "\n",
    "Where $N_e$ is the number of electrons in the detector you are interested in.\n",
    "\n",
    "You can either do this integral by hand or numerically (you can install scipy and use it's integration functions).\n",
    "\n",
    "**Exercise**: \n",
    "\n",
    "- Find the total number of events if we could detect neutrinos with energies from 0 to infinity\n",
    "- Plot the integrand (the stuff inside the integral) as a function of energy to see how the event rate depends on energy\n",
    "- Try integrating in bins of energy to see how many neutrinos will be detected in those energy ranges\n",
    "- Plot the energy bins and compare to the differential rate"
   ]
  },
  {
   "cell_type": "code",
   "execution_count": null,
   "id": "469328f7-24ad-4191-b12d-d27c2254a930",
   "metadata": {},
   "outputs": [],
   "source": []
  }
 ],
 "metadata": {
  "kernelspec": {
   "display_name": "Python 3 (ipykernel)",
   "language": "python",
   "name": "python3"
  },
  "language_info": {
   "codemirror_mode": {
    "name": "ipython",
    "version": 3
   },
   "file_extension": ".py",
   "mimetype": "text/x-python",
   "name": "python",
   "nbconvert_exporter": "python",
   "pygments_lexer": "ipython3",
   "version": "3.11.9"
  }
 },
 "nbformat": 4,
 "nbformat_minor": 5
}
